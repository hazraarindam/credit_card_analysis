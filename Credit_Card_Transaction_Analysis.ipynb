{
 "cells": [
  {
   "cell_type": "code",
   "execution_count": 1,
   "id": "deb24df3",
   "metadata": {},
   "outputs": [],
   "source": [
    "from pyspark.sql import SparkSession\n",
    "import getpass\n",
    "\n",
    "username = getpass.getuser()\n",
    "spark = SparkSession. \\\n",
    "    builder. \\\n",
    "    appName(\"project - itv005880\"). \\\n",
    "    config('spark.shuffle.useOldFetchProtocol', 'true'). \\\n",
    "    config(\"spark.sql.warehouse.dir\", f\"/user/{username}/warehouse\"). \\\n",
    "    enableHiveSupport(). \\\n",
    "    master('yarn'). \\\n",
    "    getOrCreate()"
   ]
  },
  {
   "cell_type": "code",
   "execution_count": 2,
   "id": "a394ee45",
   "metadata": {},
   "outputs": [
    {
     "name": "stdout",
     "output_type": "stream",
     "text": [
      "total 232\n",
      "-rw-r--r-- 1 itv005880 students  32780 Sep 14 01:00 Credit_Card_Transaction_Analysis.ipynb\n",
      "-rw-r--r-- 1 itv005880 students    769 Sep 14 00:19 card_holder_modified.csv\n",
      "drwxr-xr-x 2 itv005880 students   4096 Sep 12 21:53 card_holder_modified\n",
      "-rw-r--r-- 1 itv005880 students 175758 Sep 10 18:09 transaction.csv\n",
      "-rw-r--r-- 1 itv005880 students    427 Sep 10 18:09 card_holder.csv\n",
      "-rw-r--r-- 1 itv005880 students     60 Sep 10 18:09 merchant_category.csv\n",
      "-rw-r--r-- 1 itv005880 students   3544 Sep 10 18:09 merchant.csv\n",
      "-rw-r--r-- 1 itv005880 students    787 Sep 10 18:09 credit_card.csv\n"
     ]
    }
   ],
   "source": [
    "!ls -lt /home/itv005880/project/"
   ]
  },
  {
   "cell_type": "code",
   "execution_count": 3,
   "id": "9b27467a",
   "metadata": {},
   "outputs": [
    {
     "name": "stdout",
     "output_type": "stream",
     "text": [
      "mkdir: `/user/itv005880/project': File exists\n"
     ]
    }
   ],
   "source": [
    "!hdfs dfs -mkdir /user/itv005880/project/"
   ]
  },
  {
   "cell_type": "code",
   "execution_count": 4,
   "id": "14b2569b",
   "metadata": {},
   "outputs": [
    {
     "name": "stdout",
     "output_type": "stream",
     "text": [
      "put: `/user/itv005880/project/card_holder.csv': File exists\n",
      "put: `/user/itv005880/project/card_holder_modified.csv': File exists\n",
      "put: `/user/itv005880/project/credit_card.csv': File exists\n",
      "put: `/user/itv005880/project/merchant_category.csv': File exists\n",
      "put: `/user/itv005880/project/merchant.csv': File exists\n",
      "put: `/user/itv005880/project/transaction.csv': File exists\n"
     ]
    }
   ],
   "source": [
    "! hdfs dfs -put ./*.csv /user/itv005880/project/"
   ]
  },
  {
   "cell_type": "code",
   "execution_count": 5,
   "id": "43643987",
   "metadata": {},
   "outputs": [
    {
     "name": "stdout",
     "output_type": "stream",
     "text": [
      "Found 6 items\n",
      "-rw-r--r--   3 itv005880 supergroup     175758 2023-09-14 00:20 /user/itv005880/project/transaction.csv\n",
      "-rw-r--r--   3 itv005880 supergroup         60 2023-09-14 00:20 /user/itv005880/project/merchant_category.csv\n",
      "-rw-r--r--   3 itv005880 supergroup       3544 2023-09-14 00:20 /user/itv005880/project/merchant.csv\n",
      "-rw-r--r--   3 itv005880 supergroup        787 2023-09-14 00:20 /user/itv005880/project/credit_card.csv\n",
      "-rw-r--r--   3 itv005880 supergroup        769 2023-09-14 00:20 /user/itv005880/project/card_holder_modified.csv\n",
      "-rw-r--r--   3 itv005880 supergroup        427 2023-09-14 00:20 /user/itv005880/project/card_holder.csv\n"
     ]
    }
   ],
   "source": [
    "! hdfs dfs -ls -r /user/itv005880/project/"
   ]
  },
  {
   "cell_type": "markdown",
   "id": "5485aea8",
   "metadata": {},
   "source": [
    "## Raw Layer"
   ]
  },
  {
   "cell_type": "code",
   "execution_count": 30,
   "id": "be8e4301",
   "metadata": {},
   "outputs": [],
   "source": [
    "cc_holders_df = spark.read \\\n",
    ".format(\"csv\") \\\n",
    ".option(\"header\",\"true\") \\\n",
    ".option(\"inferSchema\",\"true\") \\\n",
    ".load(\"/user/itv005880/project/card_holder_modified.csv\")"
   ]
  },
  {
   "cell_type": "code",
   "execution_count": 31,
   "id": "eb6fd079",
   "metadata": {},
   "outputs": [
    {
     "name": "stdout",
     "output_type": "stream",
     "text": [
      "+---+----------+---------+----------+------+\n",
      "| id|first_name|last_name| hire_date|gender|\n",
      "+---+----------+---------+----------+------+\n",
      "|  1|    Robert|  Johnson|2000-11-03|     M|\n",
      "|  2|     Shane|  Shaffer|1989-08-16|     F|\n",
      "|  3| Elizabeth|   Sawyer|1980-06-19|     F|\n",
      "|  4|  Danielle|    Green|1975-01-02|     M|\n",
      "|  5|      Sara|   Cooper|1986-03-02|     F|\n",
      "|  6|      Beth|Hernandez|1975-03-19|  null|\n",
      "|  7|      Sean|   Taylor|1978-02-06|     F|\n",
      "|  8|   Michael|    Floyd|1999-06-19|     M|\n",
      "|  9|    Laurie|     null|1995-03-06|     F|\n",
      "| 10|   Matthew|Gutierrez|2011-03-19|     M|\n",
      "| 11|   Brandon|   Pineda|2001-06-19|     M|\n",
      "| 12|     Megan|    Price|1960-03-28|     F|\n",
      "| 13|      John|   Martin|      null|     M|\n",
      "| 14|      Gary|   Jacobs|2001-11-03|     M|\n",
      "| 15|      Kyle|   Tucker|1988-11-03|     M|\n",
      "| 16|   Crystal|    Clark|1986-11-03|     F|\n",
      "| 17|   Michael|  Carroll|1975-11-03|     F|\n",
      "| 18|     Malik|  Carlson|1999-11-03|     M|\n",
      "| 19|     Peter|    Mckay|2001-11-03|     M|\n",
      "| 20|     Kevin|  Spencer|2002-11-03|     M|\n",
      "+---+----------+---------+----------+------+\n",
      "only showing top 20 rows\n",
      "\n"
     ]
    }
   ],
   "source": [
    "cc_holders_df.show()"
   ]
  },
  {
   "cell_type": "code",
   "execution_count": 32,
   "id": "727a3c07",
   "metadata": {},
   "outputs": [],
   "source": [
    "cc_df = spark.read \\\n",
    ".format(\"csv\") \\\n",
    ".option(\"header\",\"true\") \\\n",
    ".option(\"inferSchema\",\"true\") \\\n",
    ".load(\"/user/itv005880/project/credit_card.csv\")"
   ]
  },
  {
   "cell_type": "code",
   "execution_count": 33,
   "id": "2a900514",
   "metadata": {},
   "outputs": [
    {
     "name": "stdout",
     "output_type": "stream",
     "text": [
      "+----------+--------------+\n",
      "|      card|id_card_holder|\n",
      "+----------+--------------+\n",
      "|3.51711E15|             1|\n",
      "|4.76105E18|             1|\n",
      "|4.86676E18|             2|\n",
      "|6.75911E11|             2|\n",
      "|3.00783E13|             3|\n",
      "|4.26369E15|             4|\n",
      "|5.84227E11|             4|\n",
      "|4.27647E12|             5|\n",
      "|4.26849E15|             5|\n",
      "|3.58135E15|             6|\n",
      "|4.15984E18|             6|\n",
      "|3.51695E15|             7|\n",
      "|4.53999E15|             7|\n",
      "|4.83448E15|             8|\n",
      "|3.00633E13|             8|\n",
      "| 3.0182E13|             9|\n",
      "|4.96292E18|            10|\n",
      "|4.16531E18|            10|\n",
      "|2.13194E14|            10|\n",
      "|1.80099E14|            11|\n",
      "+----------+--------------+\n",
      "only showing top 20 rows\n",
      "\n"
     ]
    }
   ],
   "source": [
    "cc_df.show()"
   ]
  },
  {
   "cell_type": "code",
   "execution_count": 34,
   "id": "2109b4ea",
   "metadata": {},
   "outputs": [],
   "source": [
    "merchant_category_df = spark.read \\\n",
    ".format(\"csv\") \\\n",
    ".option(\"header\",\"true\") \\\n",
    ".option(\"inferSchema\",\"true\") \\\n",
    ".load(\"/user/itv005880/project/merchant_category.csv\")"
   ]
  },
  {
   "cell_type": "code",
   "execution_count": 35,
   "id": "b5bda755",
   "metadata": {},
   "outputs": [
    {
     "name": "stdout",
     "output_type": "stream",
     "text": [
      "+---+-----------+\n",
      "| id|       name|\n",
      "+---+-----------+\n",
      "|  1| restaurant|\n",
      "|  2|coffee shop|\n",
      "|  3|        bar|\n",
      "|  4|        pub|\n",
      "|  5| food truck|\n",
      "+---+-----------+\n",
      "\n"
     ]
    }
   ],
   "source": [
    "merchant_category_df.show()"
   ]
  },
  {
   "cell_type": "code",
   "execution_count": 36,
   "id": "ec6e347c",
   "metadata": {},
   "outputs": [],
   "source": [
    "merchant_df = spark.read \\\n",
    ".format(\"csv\") \\\n",
    ".option(\"header\",\"true\") \\\n",
    ".option(\"inferSchema\",\"true\") \\\n",
    ".load(\"/user/itv005880/project/merchant.csv\")"
   ]
  },
  {
   "cell_type": "code",
   "execution_count": 37,
   "id": "bb75ad1f",
   "metadata": {},
   "outputs": [
    {
     "name": "stdout",
     "output_type": "stream",
     "text": [
      "+---+--------------------+--------------------+\n",
      "| id|                name|id_merchant_category|\n",
      "+---+--------------------+--------------------+\n",
      "|  1|Murphy, Heath and...|                   1|\n",
      "|  2|         Riggs-Adams|                   1|\n",
      "|  3|Sanders, Parks an...|                   2|\n",
      "|  4|      Mccarty-Thomas|                   3|\n",
      "|  5|      Miller-Blevins|                   4|\n",
      "|  6|     Wilson and Sons|                   1|\n",
      "|  7|         Gomez-Kelly|                   4|\n",
      "|  8|      Russell-Thomas|                   1|\n",
      "|  9|Curry, Scott and ...|                   3|\n",
      "| 10|       Herrera Group|                   1|\n",
      "| 11|       Stanton Group|                   4|\n",
      "| 12|Bell, Gonzalez an...|                   4|\n",
      "| 13|      Giles and Sons|                   4|\n",
      "| 14|        Osborne-Page|                   2|\n",
      "| 15|Long, Harrell and...|                   5|\n",
      "| 16|Bryant, Thomas an...|                   4|\n",
      "| 17|          Bauer-Cole|                   3|\n",
      "| 18|       Romero-Jordan|                   5|\n",
      "| 19|   Santos-Fitzgerald|                   4|\n",
      "| 20|           Kim-Lopez|                   2|\n",
      "+---+--------------------+--------------------+\n",
      "only showing top 20 rows\n",
      "\n"
     ]
    }
   ],
   "source": [
    "merchant_df.show()"
   ]
  },
  {
   "cell_type": "code",
   "execution_count": 38,
   "id": "bf4c8f2b",
   "metadata": {},
   "outputs": [],
   "source": [
    "cc_transaction_df = spark.read \\\n",
    ".format(\"csv\") \\\n",
    ".option(\"header\",\"true\") \\\n",
    ".option(\"inferSchema\",\"true\") \\\n",
    ".load(\"/user/itv005880/project/transaction.csv\")"
   ]
  },
  {
   "cell_type": "code",
   "execution_count": 39,
   "id": "680898b3",
   "metadata": {},
   "outputs": [
    {
     "name": "stdout",
     "output_type": "stream",
     "text": [
      "+----+-------------------+------+----------------+-----------+\n",
      "|  id|               date|amount|            card|id_merchant|\n",
      "+----+-------------------+------+----------------+-----------+\n",
      "| 222|2018-01-01 21:35:10|  6.22|3561954487988605|         69|\n",
      "|2045|2018-01-01 21:43:12|  3.83|5135837688671496|         85|\n",
      "| 395|2018-01-01 22:41:21|  9.61| 213193946980303|         82|\n",
      "|3309|2018-01-01 23:13:30| 19.03|4263694062533017|          5|\n",
      "| 567|2018-01-01 23:15:10|  2.95|   4498002758300|         64|\n",
      "|1683|2018-01-02 01:13:21| 11.24|4263694062533017|        127|\n",
      "|2083|2018-01-02 02:06:21|  1.46|   4319653513507|         93|\n",
      "|3488|2018-01-02 04:36:45|  3.36|4506405265172173|        136|\n",
      "|2635|2018-01-02 05:45:43| 16.69|5297187379298983|        120|\n",
      "| 432|2018-01-02 10:13:09|  8.55|5175947111814778|         70|\n",
      "|2918|2018-01-02 11:28:35| 15.85| 180098539019105|         16|\n",
      "|2020|2018-01-02 13:17:15|  2.64|    501879657465|         84|\n",
      "|1084|2018-01-02 15:10:33| 10.52|6500236164848279|         39|\n",
      "|3490|2018-01-02 16:14:55|  3.12|3517111172421930|         21|\n",
      "|1179|2018-01-02 19:40:46| 10.44|   4741042733274|         55|\n",
      "|  99|2018-01-02 23:27:46|1031.0|    501879657465|         95|\n",
      "| 191|2018-01-03 05:13:19|  2.76|3535651398328201|        149|\n",
      "|2387|2018-01-03 08:44:46|  3.89|4027907156459098|         74|\n",
      "|2512|2018-01-03 10:18:20| 14.57|4268491956169254|        106|\n",
      "| 793|2018-01-03 10:34:16|  2.63|  30181963913340|         35|\n",
      "+----+-------------------+------+----------------+-----------+\n",
      "only showing top 20 rows\n",
      "\n"
     ]
    }
   ],
   "source": [
    "cc_transaction_df.show()"
   ]
  },
  {
   "cell_type": "code",
   "execution_count": 40,
   "id": "0440cc81",
   "metadata": {},
   "outputs": [],
   "source": [
    "# Null Handeling\n",
    "# Filling up NULLs with NA for Gender, first & last name\n",
    "cc_holders_df = cc_holders_df.fillna({\"first_name\": \"NA\", \"last_name\": \"NA\", \"gender\": \"NA\"})"
   ]
  },
  {
   "cell_type": "code",
   "execution_count": 41,
   "id": "08d252fb",
   "metadata": {},
   "outputs": [
    {
     "name": "stdout",
     "output_type": "stream",
     "text": [
      "+---+----------+---------+----------+------+\n",
      "| id|first_name|last_name| hire_date|gender|\n",
      "+---+----------+---------+----------+------+\n",
      "|  1|    Robert|  Johnson|2000-11-03|     M|\n",
      "|  2|     Shane|  Shaffer|1989-08-16|     F|\n",
      "|  3| Elizabeth|   Sawyer|1980-06-19|     F|\n",
      "|  4|  Danielle|    Green|1975-01-02|     M|\n",
      "|  5|      Sara|   Cooper|1986-03-02|     F|\n",
      "|  6|      Beth|Hernandez|1975-03-19|    NA|\n",
      "|  7|      Sean|   Taylor|1978-02-06|     F|\n",
      "|  8|   Michael|    Floyd|1999-06-19|     M|\n",
      "|  9|    Laurie|       NA|1995-03-06|     F|\n",
      "| 10|   Matthew|Gutierrez|2011-03-19|     M|\n",
      "| 11|   Brandon|   Pineda|2001-06-19|     M|\n",
      "| 12|     Megan|    Price|1960-03-28|     F|\n",
      "| 13|      John|   Martin|      null|     M|\n",
      "| 14|      Gary|   Jacobs|2001-11-03|     M|\n",
      "| 15|      Kyle|   Tucker|1988-11-03|     M|\n",
      "| 16|   Crystal|    Clark|1986-11-03|     F|\n",
      "| 17|   Michael|  Carroll|1975-11-03|     F|\n",
      "| 18|     Malik|  Carlson|1999-11-03|     M|\n",
      "| 19|     Peter|    Mckay|2001-11-03|     M|\n",
      "| 20|     Kevin|  Spencer|2002-11-03|     M|\n",
      "+---+----------+---------+----------+------+\n",
      "only showing top 20 rows\n",
      "\n"
     ]
    }
   ],
   "source": [
    "cc_holders_df.show()"
   ]
  },
  {
   "cell_type": "markdown",
   "id": "3a82721a",
   "metadata": {},
   "source": [
    "## Prepared Layer DataSet"
   ]
  },
  {
   "cell_type": "code",
   "execution_count": 42,
   "id": "ad9887c1",
   "metadata": {},
   "outputs": [],
   "source": [
    "cc_holders_df.createOrReplaceTempView(\"cc_holders\")"
   ]
  },
  {
   "cell_type": "code",
   "execution_count": 43,
   "id": "425c8f62",
   "metadata": {},
   "outputs": [],
   "source": [
    "from pyspark.sql.functions import *\n",
    "\n",
    "# Join First and Last name to create full name\n",
    "# Calculate age\n",
    "\n",
    "cc_holders_df = spark.sql(\"\"\"\n",
    "            select  id, \n",
    "                    first_name, \n",
    "                    last_name, \n",
    "                    first_name || ' ' || last_name as full_name, \n",
    "                    hire_date, \n",
    "                    gender, \n",
    "                    ceil(datediff(current_date(),hire_date)/365) as age \n",
    "                    from cc_holders\n",
    "         \"\"\")"
   ]
  },
  {
   "cell_type": "code",
   "execution_count": 44,
   "id": "e75e6871",
   "metadata": {},
   "outputs": [
    {
     "name": "stdout",
     "output_type": "stream",
     "text": [
      "+---+----------+---------+-----------------+----------+------+----+\n",
      "| id|first_name|last_name|        full_name| hire_date|gender| age|\n",
      "+---+----------+---------+-----------------+----------+------+----+\n",
      "|  1|    Robert|  Johnson|   Robert Johnson|2000-11-03|     M|  23|\n",
      "|  2|     Shane|  Shaffer|    Shane Shaffer|1989-08-16|     F|  35|\n",
      "|  3| Elizabeth|   Sawyer| Elizabeth Sawyer|1980-06-19|     F|  44|\n",
      "|  4|  Danielle|    Green|   Danielle Green|1975-01-02|     M|  49|\n",
      "|  5|      Sara|   Cooper|      Sara Cooper|1986-03-02|     F|  38|\n",
      "|  6|      Beth|Hernandez|   Beth Hernandez|1975-03-19|    NA|  49|\n",
      "|  7|      Sean|   Taylor|      Sean Taylor|1978-02-06|     F|  46|\n",
      "|  8|   Michael|    Floyd|    Michael Floyd|1999-06-19|     M|  25|\n",
      "|  9|    Laurie|       NA|        Laurie NA|1995-03-06|     F|  29|\n",
      "| 10|   Matthew|Gutierrez|Matthew Gutierrez|2011-03-19|     M|  13|\n",
      "| 11|   Brandon|   Pineda|   Brandon Pineda|2001-06-19|     M|  23|\n",
      "| 12|     Megan|    Price|      Megan Price|1960-03-28|     F|  64|\n",
      "| 13|      John|   Martin|      John Martin|      null|     M|null|\n",
      "| 14|      Gary|   Jacobs|      Gary Jacobs|2001-11-03|     M|  22|\n",
      "| 15|      Kyle|   Tucker|      Kyle Tucker|1988-11-03|     M|  35|\n",
      "| 16|   Crystal|    Clark|    Crystal Clark|1986-11-03|     F|  37|\n",
      "| 17|   Michael|  Carroll|  Michael Carroll|1975-11-03|     F|  48|\n",
      "| 18|     Malik|  Carlson|    Malik Carlson|1999-11-03|     M|  24|\n",
      "| 19|     Peter|    Mckay|      Peter Mckay|2001-11-03|     M|  22|\n",
      "| 20|     Kevin|  Spencer|    Kevin Spencer|2002-11-03|     M|  21|\n",
      "+---+----------+---------+-----------------+----------+------+----+\n",
      "only showing top 20 rows\n",
      "\n"
     ]
    }
   ],
   "source": [
    "cc_holders_df.show()"
   ]
  },
  {
   "cell_type": "code",
   "execution_count": 45,
   "id": "c9354aa0",
   "metadata": {},
   "outputs": [],
   "source": [
    "mean_age = cc_holders_df.select(mean('age')).collect()[0][0] \n",
    "cc_holders_df = cc_holders_df.fillna({\"age\": mean_age})"
   ]
  },
  {
   "cell_type": "code",
   "execution_count": 46,
   "id": "976d2725",
   "metadata": {},
   "outputs": [
    {
     "name": "stdout",
     "output_type": "stream",
     "text": [
      "+---+----------+---------+-----------------+----------+------+---+\n",
      "| id|first_name|last_name|        full_name| hire_date|gender|age|\n",
      "+---+----------+---------+-----------------+----------+------+---+\n",
      "|  1|    Robert|  Johnson|   Robert Johnson|2000-11-03|     M| 23|\n",
      "|  2|     Shane|  Shaffer|    Shane Shaffer|1989-08-16|     F| 35|\n",
      "|  3| Elizabeth|   Sawyer| Elizabeth Sawyer|1980-06-19|     F| 44|\n",
      "|  4|  Danielle|    Green|   Danielle Green|1975-01-02|     M| 49|\n",
      "|  5|      Sara|   Cooper|      Sara Cooper|1986-03-02|     F| 38|\n",
      "|  6|      Beth|Hernandez|   Beth Hernandez|1975-03-19|    NA| 49|\n",
      "|  7|      Sean|   Taylor|      Sean Taylor|1978-02-06|     F| 46|\n",
      "|  8|   Michael|    Floyd|    Michael Floyd|1999-06-19|     M| 25|\n",
      "|  9|    Laurie|       NA|        Laurie NA|1995-03-06|     F| 29|\n",
      "| 10|   Matthew|Gutierrez|Matthew Gutierrez|2011-03-19|     M| 13|\n",
      "| 11|   Brandon|   Pineda|   Brandon Pineda|2001-06-19|     M| 23|\n",
      "| 12|     Megan|    Price|      Megan Price|1960-03-28|     F| 64|\n",
      "| 13|      John|   Martin|      John Martin|      null|     M| 39|\n",
      "| 14|      Gary|   Jacobs|      Gary Jacobs|2001-11-03|     M| 22|\n",
      "| 15|      Kyle|   Tucker|      Kyle Tucker|1988-11-03|     M| 35|\n",
      "| 16|   Crystal|    Clark|    Crystal Clark|1986-11-03|     F| 37|\n",
      "| 17|   Michael|  Carroll|  Michael Carroll|1975-11-03|     F| 48|\n",
      "| 18|     Malik|  Carlson|    Malik Carlson|1999-11-03|     M| 24|\n",
      "| 19|     Peter|    Mckay|      Peter Mckay|2001-11-03|     M| 22|\n",
      "| 20|     Kevin|  Spencer|    Kevin Spencer|2002-11-03|     M| 21|\n",
      "+---+----------+---------+-----------------+----------+------+---+\n",
      "only showing top 20 rows\n",
      "\n"
     ]
    }
   ],
   "source": [
    "cc_holders_df.show()"
   ]
  },
  {
   "cell_type": "code",
   "execution_count": 47,
   "id": "862cc4b9",
   "metadata": {},
   "outputs": [],
   "source": [
    "cc_holders_df.createOrReplaceTempView(\"cc_holders\")\n",
    "cc_df.createOrReplaceTempView(\"credit_cards\")\n",
    "merchant_category_df.createOrReplaceTempView(\"merchant_category\")\n",
    "merchant_df.createOrReplaceTempView(\"merchant\")\n",
    "cc_transaction_df.createOrReplaceTempView(\"cc_transactions\")"
   ]
  },
  {
   "cell_type": "code",
   "execution_count": 49,
   "id": "93206340",
   "metadata": {},
   "outputs": [],
   "source": [
    "customer_trans_df = spark.sql(\"\"\"\n",
    "                select  distinct c.id as customer_id,\n",
    "                        --c.first_name,\n",
    "                        --c.last_name,\n",
    "                        c.full_name,\n",
    "                        --c.hire_date,\n",
    "                        c.gender,\n",
    "                        c.age,\n",
    "                        t.date as transaction_dt,\n",
    "                        t.amount,\n",
    "                        t.card,\n",
    "                        --t.id_merchant,\n",
    "                        --cc.card,\n",
    "                        --cc.id_card_holder,\n",
    "                        --m.id,\n",
    "                        m.name as merchant_name,\n",
    "                        --m.id_merchant_category,\n",
    "                        --mc.id,\n",
    "                        mc.name as merchant_category\n",
    "                from cc_transactions t \n",
    "                join cc_holders c on c.id = t.id\n",
    "                join credit_cards cc on cc.id_card_holder = c.id\n",
    "                join merchant m on m.id = t.id_merchant\n",
    "                join merchant_category mc on mc.id = m.id_merchant_category\n",
    "         \"\"\")"
   ]
  },
  {
   "cell_type": "code",
   "execution_count": 50,
   "id": "2459d753",
   "metadata": {},
   "outputs": [
    {
     "name": "stdout",
     "output_type": "stream",
     "text": [
      "+-----------+-----------------+------+---+-------------------+------+-------------------+--------------------+-----------------+\n",
      "|customer_id|        full_name|gender|age|     transaction_dt|amount|               card|       merchant_name|merchant_category|\n",
      "+-----------+-----------------+------+---+-------------------+------+-------------------+--------------------+-----------------+\n",
      "|         20|    Kevin Spencer|     M| 21|2018-07-05 01:36:32|  5.15|      4319653513507|            Horn Ltd|      coffee shop|\n",
      "|         11|   Brandon Pineda|     M| 23|2018-02-04 04:00:18|   6.9|   6500236164848279|    Russell and Sons|              pub|\n",
      "|         15|      Kyle Tucker|     M| 35|2018-06-01 13:35:17|  4.48|4723783028106084756|      Perry and Sons|              bar|\n",
      "|         13|      John Martin|     M| 39|2018-02-02 21:41:12|  4.29|   6500236164848279|Huerta, Keith and...|       food truck|\n",
      "|         10|Matthew Gutierrez|     M| 13|2018-12-26 19:55:23|  1.45|   3561072557118696|       Romero-Jordan|       food truck|\n",
      "|         21|  Dana Washington|     F| 38|2018-05-18 17:35:05|  5.32|   4188164051171486|    Wallace and Sons|      coffee shop|\n",
      "|          7|      Sean Taylor|     F| 46|2018-10-18 23:13:49|  3.41|   4539990688484983|      Browning-Cantu|              pub|\n",
      "|          1|   Robert Johnson|     M| 23|2018-04-30 18:50:48|  5.62|   3517111172421930|        Kennedy-Chen|              bar|\n",
      "|         18|    Malik Carlson|     M| 24|2018-11-23 17:40:55|  7.61|       501809222273|Scott, Hess and F...|              bar|\n",
      "|          4|   Danielle Green|     M| 49|2018-05-23 04:27:45|  6.73|4165305432349489280|          Bauer-Cole|              bar|\n",
      "|         24| Stephanie Dalton|     M|135|2018-09-25 12:45:03|  5.99|       501809222273|     Garcia and Sons|              pub|\n",
      "|         14|      Gary Jacobs|     M| 22|2018-10-20 16:16:16|  7.69|   5135837688671496|       Jarvis-Turner|              pub|\n",
      "|          5|      Sara Cooper|     F| 38|2018-02-27 09:20:29|  6.03|   4150721559116778|       Romero-Jordan|       food truck|\n",
      "|         22|   Austin Johnson|     M| 42|2018-02-21 17:59:47|   3.8|   4268491956169254|Vega, Jones and C...|       food truck|\n",
      "|         25|  Nancy Contreras|     F| 57|2018-07-09 07:58:15|  3.59|   3581345943543942|Bond, Lewis and R...|       restaurant|\n",
      "|          6|   Beth Hernandez|    NA| 49|2018-08-04 01:57:38|  6.26|   6500236164848279|Boone, Davis and ...|              pub|\n",
      "|          8|    Michael Floyd|     M| 25|2018-11-15 08:28:06|  3.86|   4268491956169254|   Santos-Fitzgerald|              pub|\n",
      "|         16|    Crystal Clark|     F| 37|2018-09-09 03:39:06| 626.0|     30078299053512|Jacobs, Torres an...|              bar|\n",
      "|         19|      Peter Mckay|     M| 22|2018-07-30 19:41:13|  6.13|    372414832802279|        Baxter-Smith|       restaurant|\n",
      "|         17|  Michael Carroll|     F| 48|2018-02-27 05:09:28|  6.35|4644008655884311378|         Riggs-Adams|       restaurant|\n",
      "+-----------+-----------------+------+---+-------------------+------+-------------------+--------------------+-----------------+\n",
      "only showing top 20 rows\n",
      "\n"
     ]
    }
   ],
   "source": [
    "customer_trans_df.show()"
   ]
  },
  {
   "cell_type": "markdown",
   "id": "4fc015fd",
   "metadata": {},
   "source": [
    "## Curated Layer"
   ]
  },
  {
   "cell_type": "code",
   "execution_count": 58,
   "id": "9f73619f",
   "metadata": {},
   "outputs": [
    {
     "name": "stdout",
     "output_type": "stream",
     "text": [
      "+---+---+---------+\n",
      "| id|age|age_group|\n",
      "+---+---+---------+\n",
      "|  1| 23|    20_30|\n",
      "|  2| 35|    30_40|\n",
      "|  3| 44|    40_50|\n",
      "|  4| 49|    40_50|\n",
      "|  5| 38|    30_40|\n",
      "|  6| 49|    40_50|\n",
      "|  7| 46|    40_50|\n",
      "|  8| 25|    20_30|\n",
      "|  9| 29|    20_30|\n",
      "| 10| 13| below_20|\n",
      "| 11| 23|    20_30|\n",
      "| 12| 64| above_60|\n",
      "| 13| 39|    30_40|\n",
      "| 14| 22|    20_30|\n",
      "| 15| 35|    30_40|\n",
      "| 16| 37|    30_40|\n",
      "| 17| 48|    40_50|\n",
      "| 18| 24|    20_30|\n",
      "| 19| 22|    20_30|\n",
      "| 20| 21|    20_30|\n",
      "+---+---+---------+\n",
      "only showing top 20 rows\n",
      "\n"
     ]
    }
   ],
   "source": [
    "# Add Age Group\n",
    "spark.sql(\"\"\" select c.id, c.age,\n",
    "                case when age <20 then \"below_20\"  \n",
    "                     when age >=20 and age < 30 then \"20_30\"  \n",
    "                     when age >=30 and age < 40 then \"30_40\"  \n",
    "                     when age >=40 and age < 50 then \"40_50\"  \n",
    "                     when age >=50 and age < 60 then \"50_60\"  \n",
    "                     when age >=60 then \"above_60\"  \n",
    "                end as age_group\n",
    "                from cc_holders c\n",
    "         \"\"\").show()"
   ]
  },
  {
   "cell_type": "code",
   "execution_count": null,
   "id": "1122cb20",
   "metadata": {},
   "outputs": [],
   "source": [
    "# Create Customer Segment"
   ]
  },
  {
   "cell_type": "code",
   "execution_count": null,
   "id": "f819fc9a",
   "metadata": {},
   "outputs": [],
   "source": [
    "# Map Trasnactions based on Segment"
   ]
  },
  {
   "cell_type": "code",
   "execution_count": 44,
   "id": "883a80cc",
   "metadata": {},
   "outputs": [
    {
     "ename": "AttributeError",
     "evalue": "'SparkSession' object has no attribute 'close'",
     "output_type": "error",
     "traceback": [
      "\u001b[0;31m---------------------------------------------------------------------------\u001b[0m",
      "\u001b[0;31mAttributeError\u001b[0m                            Traceback (most recent call last)",
      "\u001b[0;32m<ipython-input-44-774709a97487>\u001b[0m in \u001b[0;36m<module>\u001b[0;34m\u001b[0m\n\u001b[0;32m----> 1\u001b[0;31m \u001b[0mspark\u001b[0m\u001b[0;34m.\u001b[0m\u001b[0mclose\u001b[0m\u001b[0;34m(\u001b[0m\u001b[0;34m)\u001b[0m\u001b[0;34m\u001b[0m\u001b[0;34m\u001b[0m\u001b[0m\n\u001b[0m",
      "\u001b[0;31mAttributeError\u001b[0m: 'SparkSession' object has no attribute 'close'"
     ]
    }
   ],
   "source": [
    "spark.close()"
   ]
  }
 ],
 "metadata": {
  "kernelspec": {
   "display_name": "Pyspark 3",
   "language": "python",
   "name": "pyspark3"
  },
  "language_info": {
   "codemirror_mode": {
    "name": "ipython",
    "version": 3
   },
   "file_extension": ".py",
   "mimetype": "text/x-python",
   "name": "python",
   "nbconvert_exporter": "python",
   "pygments_lexer": "ipython3",
   "version": "3.6.12"
  }
 },
 "nbformat": 4,
 "nbformat_minor": 5
}
